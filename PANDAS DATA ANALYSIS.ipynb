{
 "cells": [
  {
   "cell_type": "code",
   "execution_count": 1,
   "id": "b9a7f075",
   "metadata": {},
   "outputs": [],
   "source": [
    "import pandas as pd"
   ]
  },
  {
   "cell_type": "code",
   "execution_count": 2,
   "id": "04f0cc98",
   "metadata": {},
   "outputs": [],
   "source": [
    "df = pd.read_csv('airlines_data_part.csv')"
   ]
  },
  {
   "cell_type": "code",
   "execution_count": 5,
   "id": "f115946a",
   "metadata": {},
   "outputs": [
    {
     "data": {
      "text/plain": [
       "passenger_name     object\n",
       "day                 int64\n",
       "month               int64\n",
       "departure_city     object\n",
       "arrival_city       object\n",
       "sales             float64\n",
       "dtype: object"
      ]
     },
     "execution_count": 5,
     "metadata": {},
     "output_type": "execute_result"
    }
   ],
   "source": [
    "df.dtypes #Showing data types of all the columns\n",
    "#object represent it is of string data type"
   ]
  },
  {
   "cell_type": "code",
   "execution_count": 7,
   "id": "d44b89bf",
   "metadata": {},
   "outputs": [
    {
     "data": {
      "text/html": [
       "<div>\n",
       "<style scoped>\n",
       "    .dataframe tbody tr th:only-of-type {\n",
       "        vertical-align: middle;\n",
       "    }\n",
       "\n",
       "    .dataframe tbody tr th {\n",
       "        vertical-align: top;\n",
       "    }\n",
       "\n",
       "    .dataframe thead th {\n",
       "        text-align: right;\n",
       "    }\n",
       "</style>\n",
       "<table border=\"1\" class=\"dataframe\">\n",
       "  <thead>\n",
       "    <tr style=\"text-align: right;\">\n",
       "      <th></th>\n",
       "      <th>day</th>\n",
       "      <th>month</th>\n",
       "      <th>sales</th>\n",
       "    </tr>\n",
       "  </thead>\n",
       "  <tbody>\n",
       "    <tr>\n",
       "      <th>count</th>\n",
       "      <td>1.016598e+06</td>\n",
       "      <td>1.016598e+06</td>\n",
       "      <td>1.016598e+06</td>\n",
       "    </tr>\n",
       "    <tr>\n",
       "      <th>mean</th>\n",
       "      <td>1.395915e+01</td>\n",
       "      <td>7.312290e+00</td>\n",
       "      <td>1.061872e+05</td>\n",
       "    </tr>\n",
       "    <tr>\n",
       "      <th>std</th>\n",
       "      <td>8.691542e+00</td>\n",
       "      <td>5.186397e-01</td>\n",
       "      <td>9.916200e+04</td>\n",
       "    </tr>\n",
       "    <tr>\n",
       "      <th>min</th>\n",
       "      <td>1.000000e+00</td>\n",
       "      <td>6.000000e+00</td>\n",
       "      <td>3.400000e+03</td>\n",
       "    </tr>\n",
       "    <tr>\n",
       "      <th>25%</th>\n",
       "      <td>7.000000e+00</td>\n",
       "      <td>7.000000e+00</td>\n",
       "      <td>4.400000e+04</td>\n",
       "    </tr>\n",
       "    <tr>\n",
       "      <th>50%</th>\n",
       "      <td>1.200000e+01</td>\n",
       "      <td>7.000000e+00</td>\n",
       "      <td>7.520000e+04</td>\n",
       "    </tr>\n",
       "    <tr>\n",
       "      <th>75%</th>\n",
       "      <td>2.100000e+01</td>\n",
       "      <td>8.000000e+00</td>\n",
       "      <td>1.342000e+05</td>\n",
       "    </tr>\n",
       "    <tr>\n",
       "      <th>max</th>\n",
       "      <td>3.100000e+01</td>\n",
       "      <td>8.000000e+00</td>\n",
       "      <td>1.526100e+06</td>\n",
       "    </tr>\n",
       "  </tbody>\n",
       "</table>\n",
       "</div>"
      ],
      "text/plain": [
       "                day         month         sales\n",
       "count  1.016598e+06  1.016598e+06  1.016598e+06\n",
       "mean   1.395915e+01  7.312290e+00  1.061872e+05\n",
       "std    8.691542e+00  5.186397e-01  9.916200e+04\n",
       "min    1.000000e+00  6.000000e+00  3.400000e+03\n",
       "25%    7.000000e+00  7.000000e+00  4.400000e+04\n",
       "50%    1.200000e+01  7.000000e+00  7.520000e+04\n",
       "75%    2.100000e+01  8.000000e+00  1.342000e+05\n",
       "max    3.100000e+01  8.000000e+00  1.526100e+06"
      ]
     },
     "execution_count": 7,
     "metadata": {},
     "output_type": "execute_result"
    }
   ],
   "source": [
    "df.describe() #describe all stats of numeric i.e integer and float data types\n",
    "#e+ mean 10 raise to the power"
   ]
  },
  {
   "cell_type": "code",
   "execution_count": 12,
   "id": "75913426",
   "metadata": {},
   "outputs": [
    {
     "data": {
      "text/plain": [
       "count    1.016598e+06\n",
       "mean     1.061872e+05\n",
       "std      9.916200e+04\n",
       "min      3.400000e+03\n",
       "25%      4.400000e+04\n",
       "50%      7.520000e+04\n",
       "75%      1.342000e+05\n",
       "max      1.526100e+06\n",
       "Name: sales, dtype: float64"
      ]
     },
     "execution_count": 12,
     "metadata": {},
     "output_type": "execute_result"
    }
   ],
   "source": [
    "df.sales.describe() #showing the stats of the sales columns"
   ]
  },
  {
   "cell_type": "code",
   "execution_count": 10,
   "id": "f0c5991d",
   "metadata": {},
   "outputs": [
    {
     "data": {
      "text/plain": [
       "106187.22789145759"
      ]
     },
     "execution_count": 10,
     "metadata": {},
     "output_type": "execute_result"
    }
   ],
   "source": [
    "df['sales'].mean() #showing the mean of only sales column"
   ]
  },
  {
   "cell_type": "code",
   "execution_count": 13,
   "id": "cb37ae68",
   "metadata": {},
   "outputs": [
    {
     "data": {
      "text/plain": [
       "75200.0"
      ]
     },
     "execution_count": 13,
     "metadata": {},
     "output_type": "execute_result"
    }
   ],
   "source": [
    "df['sales'].median() #showing median of only sales column"
   ]
  },
  {
   "cell_type": "code",
   "execution_count": null,
   "id": "53a75f7a",
   "metadata": {},
   "outputs": [],
   "source": []
  }
 ],
 "metadata": {
  "kernelspec": {
   "display_name": "Python 3 (ipykernel)",
   "language": "python",
   "name": "python3"
  },
  "language_info": {
   "codemirror_mode": {
    "name": "ipython",
    "version": 3
   },
   "file_extension": ".py",
   "mimetype": "text/x-python",
   "name": "python",
   "nbconvert_exporter": "python",
   "pygments_lexer": "ipython3",
   "version": "3.11.3"
  }
 },
 "nbformat": 4,
 "nbformat_minor": 5
}
