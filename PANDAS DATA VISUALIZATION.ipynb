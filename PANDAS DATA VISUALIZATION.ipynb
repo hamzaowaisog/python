{
 "cells": [
  {
   "cell_type": "code",
   "execution_count": 1,
   "id": "f8a0aa8c",
   "metadata": {},
   "outputs": [],
   "source": [
    "import pandas as pd "
   ]
  },
  {
   "cell_type": "code",
   "execution_count": 2,
   "id": "97edf76d",
   "metadata": {},
   "outputs": [],
   "source": [
    "df = pd.read_csv('airlines_data_part.csv')"
   ]
  },
  {
   "cell_type": "code",
   "execution_count": 3,
   "id": "368e9438",
   "metadata": {},
   "outputs": [
    {
     "data": {
      "text/html": [
       "<div>\n",
       "<style scoped>\n",
       "    .dataframe tbody tr th:only-of-type {\n",
       "        vertical-align: middle;\n",
       "    }\n",
       "\n",
       "    .dataframe tbody tr th {\n",
       "        vertical-align: top;\n",
       "    }\n",
       "\n",
       "    .dataframe thead th {\n",
       "        text-align: right;\n",
       "    }\n",
       "</style>\n",
       "<table border=\"1\" class=\"dataframe\">\n",
       "  <thead>\n",
       "    <tr style=\"text-align: right;\">\n",
       "      <th></th>\n",
       "      <th>passenger_name</th>\n",
       "      <th>day</th>\n",
       "      <th>month</th>\n",
       "      <th>departure_city</th>\n",
       "      <th>arrival_city</th>\n",
       "      <th>sales</th>\n",
       "    </tr>\n",
       "  </thead>\n",
       "  <tbody>\n",
       "    <tr>\n",
       "      <th>0</th>\n",
       "      <td>ALEKSANDRA KUZNECOVA</td>\n",
       "      <td>21</td>\n",
       "      <td>6</td>\n",
       "      <td>Moscow</td>\n",
       "      <td>Astrakhan</td>\n",
       "      <td>52000.0</td>\n",
       "    </tr>\n",
       "    <tr>\n",
       "      <th>1</th>\n",
       "      <td>ALEKSANDRA KUZNECOVA</td>\n",
       "      <td>21</td>\n",
       "      <td>6</td>\n",
       "      <td>Astrakhan</td>\n",
       "      <td>Moscow</td>\n",
       "      <td>52000.0</td>\n",
       "    </tr>\n",
       "    <tr>\n",
       "      <th>2</th>\n",
       "      <td>VIKTOR BORISOV</td>\n",
       "      <td>21</td>\n",
       "      <td>6</td>\n",
       "      <td>Moscow</td>\n",
       "      <td>Astrakhan</td>\n",
       "      <td>52000.0</td>\n",
       "    </tr>\n",
       "    <tr>\n",
       "      <th>3</th>\n",
       "      <td>VIKTOR BORISOV</td>\n",
       "      <td>21</td>\n",
       "      <td>6</td>\n",
       "      <td>Astrakhan</td>\n",
       "      <td>Moscow</td>\n",
       "      <td>52000.0</td>\n",
       "    </tr>\n",
       "    <tr>\n",
       "      <th>4</th>\n",
       "      <td>LYUDMILA POTAPOVA</td>\n",
       "      <td>21</td>\n",
       "      <td>6</td>\n",
       "      <td>Khabarovsk</td>\n",
       "      <td>Moscow</td>\n",
       "      <td>178800.0</td>\n",
       "    </tr>\n",
       "    <tr>\n",
       "      <th>...</th>\n",
       "      <td>...</td>\n",
       "      <td>...</td>\n",
       "      <td>...</td>\n",
       "      <td>...</td>\n",
       "      <td>...</td>\n",
       "      <td>...</td>\n",
       "    </tr>\n",
       "    <tr>\n",
       "      <th>1016593</th>\n",
       "      <td>DMITRIY MELNIKOV</td>\n",
       "      <td>15</td>\n",
       "      <td>8</td>\n",
       "      <td>Bryansk</td>\n",
       "      <td>Moscow</td>\n",
       "      <td>1185800.0</td>\n",
       "    </tr>\n",
       "    <tr>\n",
       "      <th>1016594</th>\n",
       "      <td>VASILIY FOMIN</td>\n",
       "      <td>15</td>\n",
       "      <td>8</td>\n",
       "      <td>Moscow</td>\n",
       "      <td>Bryansk</td>\n",
       "      <td>1185800.0</td>\n",
       "    </tr>\n",
       "    <tr>\n",
       "      <th>1016595</th>\n",
       "      <td>VASILIY FOMIN</td>\n",
       "      <td>15</td>\n",
       "      <td>8</td>\n",
       "      <td>Bryansk</td>\n",
       "      <td>Moscow</td>\n",
       "      <td>1185800.0</td>\n",
       "    </tr>\n",
       "    <tr>\n",
       "      <th>1016596</th>\n",
       "      <td>VALERIY MOISEEV</td>\n",
       "      <td>15</td>\n",
       "      <td>8</td>\n",
       "      <td>Moscow</td>\n",
       "      <td>Bryansk</td>\n",
       "      <td>1185800.0</td>\n",
       "    </tr>\n",
       "    <tr>\n",
       "      <th>1016597</th>\n",
       "      <td>VALERIY MOISEEV</td>\n",
       "      <td>15</td>\n",
       "      <td>8</td>\n",
       "      <td>Bryansk</td>\n",
       "      <td>Moscow</td>\n",
       "      <td>1185800.0</td>\n",
       "    </tr>\n",
       "  </tbody>\n",
       "</table>\n",
       "<p>1016598 rows × 6 columns</p>\n",
       "</div>"
      ],
      "text/plain": [
       "               passenger_name  day  month departure_city arrival_city  \\\n",
       "0        ALEKSANDRA KUZNECOVA   21      6         Moscow    Astrakhan   \n",
       "1        ALEKSANDRA KUZNECOVA   21      6      Astrakhan       Moscow   \n",
       "2              VIKTOR BORISOV   21      6         Moscow    Astrakhan   \n",
       "3              VIKTOR BORISOV   21      6      Astrakhan       Moscow   \n",
       "4           LYUDMILA POTAPOVA   21      6     Khabarovsk       Moscow   \n",
       "...                       ...  ...    ...            ...          ...   \n",
       "1016593      DMITRIY MELNIKOV   15      8        Bryansk       Moscow   \n",
       "1016594         VASILIY FOMIN   15      8         Moscow      Bryansk   \n",
       "1016595         VASILIY FOMIN   15      8        Bryansk       Moscow   \n",
       "1016596       VALERIY MOISEEV   15      8         Moscow      Bryansk   \n",
       "1016597       VALERIY MOISEEV   15      8        Bryansk       Moscow   \n",
       "\n",
       "             sales  \n",
       "0          52000.0  \n",
       "1          52000.0  \n",
       "2          52000.0  \n",
       "3          52000.0  \n",
       "4         178800.0  \n",
       "...            ...  \n",
       "1016593  1185800.0  \n",
       "1016594  1185800.0  \n",
       "1016595  1185800.0  \n",
       "1016596  1185800.0  \n",
       "1016597  1185800.0  \n",
       "\n",
       "[1016598 rows x 6 columns]"
      ]
     },
     "execution_count": 3,
     "metadata": {},
     "output_type": "execute_result"
    }
   ],
   "source": [
    "df"
   ]
  },
  {
   "cell_type": "code",
   "execution_count": 4,
   "id": "d2571d3b",
   "metadata": {},
   "outputs": [
    {
     "data": {
      "text/plain": [
       "(1016598, 6)"
      ]
     },
     "execution_count": 4,
     "metadata": {},
     "output_type": "execute_result"
    }
   ],
   "source": [
    "df.shape #showing row and columns"
   ]
  },
  {
   "cell_type": "code",
   "execution_count": 5,
   "id": "c0f719f9",
   "metadata": {},
   "outputs": [
    {
     "data": {
      "text/plain": [
       "6099588"
      ]
     },
     "execution_count": 5,
     "metadata": {},
     "output_type": "execute_result"
    }
   ],
   "source": [
    "df.size #return the number of values in our csv file"
   ]
  },
  {
   "cell_type": "code",
   "execution_count": 6,
   "id": "ecd90be6",
   "metadata": {},
   "outputs": [
    {
     "data": {
      "text/plain": [
       "106187.23"
      ]
     },
     "execution_count": 6,
     "metadata": {},
     "output_type": "execute_result"
    }
   ],
   "source": [
    "round(df.sales.mean(),2)"
   ]
  },
  {
   "cell_type": "code",
   "execution_count": 7,
   "id": "244da1d3",
   "metadata": {},
   "outputs": [],
   "source": [
    "df1 = df.sample(15) #extracting random 15 samples from our main data frame"
   ]
  },
  {
   "cell_type": "code",
   "execution_count": 8,
   "id": "6be841a9",
   "metadata": {},
   "outputs": [
    {
     "data": {
      "text/html": [
       "<div>\n",
       "<style scoped>\n",
       "    .dataframe tbody tr th:only-of-type {\n",
       "        vertical-align: middle;\n",
       "    }\n",
       "\n",
       "    .dataframe tbody tr th {\n",
       "        vertical-align: top;\n",
       "    }\n",
       "\n",
       "    .dataframe thead th {\n",
       "        text-align: right;\n",
       "    }\n",
       "</style>\n",
       "<table border=\"1\" class=\"dataframe\">\n",
       "  <thead>\n",
       "    <tr style=\"text-align: right;\">\n",
       "      <th></th>\n",
       "      <th>passenger_name</th>\n",
       "      <th>day</th>\n",
       "      <th>month</th>\n",
       "      <th>departure_city</th>\n",
       "      <th>arrival_city</th>\n",
       "      <th>sales</th>\n",
       "    </tr>\n",
       "  </thead>\n",
       "  <tbody>\n",
       "    <tr>\n",
       "      <th>619487</th>\n",
       "      <td>MARIYA MAKAROVA</td>\n",
       "      <td>29</td>\n",
       "      <td>7</td>\n",
       "      <td>Uraj</td>\n",
       "      <td>Tyumen</td>\n",
       "      <td>86500.0</td>\n",
       "    </tr>\n",
       "    <tr>\n",
       "      <th>266136</th>\n",
       "      <td>ANDREY ILIN</td>\n",
       "      <td>13</td>\n",
       "      <td>7</td>\n",
       "      <td>Nizhniy Novgorod</td>\n",
       "      <td>Moscow</td>\n",
       "      <td>16400.0</td>\n",
       "    </tr>\n",
       "    <tr>\n",
       "      <th>919105</th>\n",
       "      <td>ALEKSEY SIDOROV</td>\n",
       "      <td>12</td>\n",
       "      <td>8</td>\n",
       "      <td>Moscow</td>\n",
       "      <td>Nyagan</td>\n",
       "      <td>17300.0</td>\n",
       "    </tr>\n",
       "    <tr>\n",
       "      <th>561102</th>\n",
       "      <td>ZOYA ZOTOVA</td>\n",
       "      <td>26</td>\n",
       "      <td>7</td>\n",
       "      <td>Norilsk</td>\n",
       "      <td>Yekaterinburg</td>\n",
       "      <td>164000.0</td>\n",
       "    </tr>\n",
       "    <tr>\n",
       "      <th>249787</th>\n",
       "      <td>IRINA ZHUKOVA</td>\n",
       "      <td>12</td>\n",
       "      <td>7</td>\n",
       "      <td>Moscow</td>\n",
       "      <td>Rostov</td>\n",
       "      <td>45100.0</td>\n",
       "    </tr>\n",
       "    <tr>\n",
       "      <th>496119</th>\n",
       "      <td>LARISA POPOVA</td>\n",
       "      <td>23</td>\n",
       "      <td>7</td>\n",
       "      <td>Krasnoyarsk</td>\n",
       "      <td>Kurgan</td>\n",
       "      <td>137600.0</td>\n",
       "    </tr>\n",
       "    <tr>\n",
       "      <th>631734</th>\n",
       "      <td>ELIZAVETA STEPANOVA</td>\n",
       "      <td>30</td>\n",
       "      <td>7</td>\n",
       "      <td>Moscow</td>\n",
       "      <td>Ulyanovsk</td>\n",
       "      <td>29500.0</td>\n",
       "    </tr>\n",
       "    <tr>\n",
       "      <th>626246</th>\n",
       "      <td>ELMIRA TIKHONOVA</td>\n",
       "      <td>29</td>\n",
       "      <td>7</td>\n",
       "      <td>Irkutsk</td>\n",
       "      <td>Kazan</td>\n",
       "      <td>198600.0</td>\n",
       "    </tr>\n",
       "    <tr>\n",
       "      <th>912945</th>\n",
       "      <td>PAVEL ANDREEV</td>\n",
       "      <td>11</td>\n",
       "      <td>8</td>\n",
       "      <td>Moscow</td>\n",
       "      <td>St. Petersburg</td>\n",
       "      <td>148200.0</td>\n",
       "    </tr>\n",
       "    <tr>\n",
       "      <th>222269</th>\n",
       "      <td>SERGEY VASILEV</td>\n",
       "      <td>10</td>\n",
       "      <td>7</td>\n",
       "      <td>Moscow</td>\n",
       "      <td>St. Petersburg</td>\n",
       "      <td>492200.0</td>\n",
       "    </tr>\n",
       "    <tr>\n",
       "      <th>821143</th>\n",
       "      <td>ALEKSANDR YAKOVLEV</td>\n",
       "      <td>7</td>\n",
       "      <td>8</td>\n",
       "      <td>Novosibirsk</td>\n",
       "      <td>Perm</td>\n",
       "      <td>194700.0</td>\n",
       "    </tr>\n",
       "    <tr>\n",
       "      <th>794654</th>\n",
       "      <td>ANASTASIYA MAKAROVA</td>\n",
       "      <td>6</td>\n",
       "      <td>8</td>\n",
       "      <td>Moscow</td>\n",
       "      <td>Novosibirsk</td>\n",
       "      <td>111600.0</td>\n",
       "    </tr>\n",
       "    <tr>\n",
       "      <th>672012</th>\n",
       "      <td>SERGEY ZAKHAROV</td>\n",
       "      <td>1</td>\n",
       "      <td>8</td>\n",
       "      <td>Ulyanovsk</td>\n",
       "      <td>Moscow</td>\n",
       "      <td>13400.0</td>\n",
       "    </tr>\n",
       "    <tr>\n",
       "      <th>845384</th>\n",
       "      <td>TAMARA FROLOVA</td>\n",
       "      <td>8</td>\n",
       "      <td>8</td>\n",
       "      <td>Kazan</td>\n",
       "      <td>Irkutsk</td>\n",
       "      <td>273500.0</td>\n",
       "    </tr>\n",
       "    <tr>\n",
       "      <th>603893</th>\n",
       "      <td>DINARA NESTEROVA</td>\n",
       "      <td>28</td>\n",
       "      <td>7</td>\n",
       "      <td>Moscow</td>\n",
       "      <td>Tyumen</td>\n",
       "      <td>168000.0</td>\n",
       "    </tr>\n",
       "  </tbody>\n",
       "</table>\n",
       "</div>"
      ],
      "text/plain": [
       "             passenger_name  day  month    departure_city    arrival_city  \\\n",
       "619487      MARIYA MAKAROVA   29      7              Uraj          Tyumen   \n",
       "266136          ANDREY ILIN   13      7  Nizhniy Novgorod          Moscow   \n",
       "919105      ALEKSEY SIDOROV   12      8            Moscow          Nyagan   \n",
       "561102          ZOYA ZOTOVA   26      7           Norilsk   Yekaterinburg   \n",
       "249787        IRINA ZHUKOVA   12      7            Moscow          Rostov   \n",
       "496119        LARISA POPOVA   23      7       Krasnoyarsk          Kurgan   \n",
       "631734  ELIZAVETA STEPANOVA   30      7            Moscow       Ulyanovsk   \n",
       "626246     ELMIRA TIKHONOVA   29      7           Irkutsk           Kazan   \n",
       "912945        PAVEL ANDREEV   11      8            Moscow  St. Petersburg   \n",
       "222269       SERGEY VASILEV   10      7            Moscow  St. Petersburg   \n",
       "821143   ALEKSANDR YAKOVLEV    7      8       Novosibirsk            Perm   \n",
       "794654  ANASTASIYA MAKAROVA    6      8            Moscow     Novosibirsk   \n",
       "672012      SERGEY ZAKHAROV    1      8         Ulyanovsk          Moscow   \n",
       "845384       TAMARA FROLOVA    8      8             Kazan         Irkutsk   \n",
       "603893     DINARA NESTEROVA   28      7            Moscow          Tyumen   \n",
       "\n",
       "           sales  \n",
       "619487   86500.0  \n",
       "266136   16400.0  \n",
       "919105   17300.0  \n",
       "561102  164000.0  \n",
       "249787   45100.0  \n",
       "496119  137600.0  \n",
       "631734   29500.0  \n",
       "626246  198600.0  \n",
       "912945  148200.0  \n",
       "222269  492200.0  \n",
       "821143  194700.0  \n",
       "794654  111600.0  \n",
       "672012   13400.0  \n",
       "845384  273500.0  \n",
       "603893  168000.0  "
      ]
     },
     "execution_count": 8,
     "metadata": {},
     "output_type": "execute_result"
    }
   ],
   "source": [
    "df1"
   ]
  },
  {
   "cell_type": "code",
   "execution_count": 9,
   "id": "4db450b9",
   "metadata": {},
   "outputs": [],
   "source": [
    "import matplotlib.pyplot as plt"
   ]
  },
  {
   "cell_type": "code",
   "execution_count": 10,
   "id": "131c77df",
   "metadata": {},
   "outputs": [
    {
     "data": {
      "image/png": "[encoded data removed]",
      "text/plain": [
       "<Figure size 640x480 with 1 Axes>"
      ]
     },
     "metadata": {},
     "output_type": "display_data"
    }
   ],
   "source": [
    "sales = df1['sales'] #extracting sales from data frame\n",
    "months = df1['month'] #extracting month from data frame\n",
    "plt.bar(months,sales) #drawing bar graph\n",
    "plt.ylabel('Sales') #y labels\n",
    "plt.xlabel('Summer Months')# x labels\n",
    "plt.show() #displaying"
   ]
  },
  {
   "cell_type": "code",
   "execution_count": 11,
   "id": "befe2269",
   "metadata": {},
   "outputs": [],
   "source": [
    "#to avoid sample erroring we take another sample"
   ]
  },
  {
   "cell_type": "code",
   "execution_count": 12,
   "id": "f6006d35",
   "metadata": {},
   "outputs": [],
   "source": [
    "df2 = df.sample(30)"
   ]
  },
  {
   "cell_type": "code",
   "execution_count": 13,
   "id": "7b452ed6",
   "metadata": {},
   "outputs": [
    {
     "data": {
      "image/png": "[encoded data removed]",
      "text/plain": [
       "<Figure size 640x480 with 1 Axes>"
      ]
     },
     "metadata": {},
     "output_type": "display_data"
    }
   ],
   "source": [
    "sales = df2['sales']\n",
    "months = df2['month']\n",
    "plt.bar(months,sales) #setting the size of x-axis its font size the column or value that should be on x-axis and how it should be printed\n",
    "plt.xticks(months, rotation = 'horizontal', size=10) \n",
    "plt.ylabel('Sales')\n",
    "plt.xlabel('Summer Months')\n",
    "plt.show()"
   ]
  },
  {
   "cell_type": "code",
   "execution_count": 14,
   "id": "a5ae5fdf",
   "metadata": {},
   "outputs": [
    {
     "data": {
      "image/png": "[encoded data removed]",
      "text/plain": [
       "<Figure size 640x480 with 1 Axes>"
      ]
     },
     "metadata": {},
     "output_type": "display_data"
    }
   ],
   "source": [
    "df3 = df.sample(500)\n",
    "sales = df3['sales']\n",
    "months = df3['month']\n",
    "plt.bar(months,sales) #setting the size of x-axis its font size the column or value that should be on x-axis and how it should be printed\n",
    "plt.xticks(months, rotation = 'horizontal', size=10) \n",
    "plt.ylabel('Sales')\n",
    "plt.xlabel('Summer Months')\n",
    "plt.show()"
   ]
  },
  {
   "cell_type": "code",
   "execution_count": 15,
   "id": "07f2f5f2",
   "metadata": {},
   "outputs": [
    {
     "data": {
      "image/png": "[encoded data removed]",
      "text/plain": [
       "<Figure size 640x480 with 1 Axes>"
      ]
     },
     "metadata": {},
     "output_type": "display_data"
    }
   ],
   "source": [
    "df4 = df.sample(1000)\n",
    "sales = df4['sales']\n",
    "months = df4['month']\n",
    "plt.bar(months,sales) #setting the size of x-axis its font size the column or value that should be on x-axis and how it should be printed\n",
    "plt.xticks(months, rotation = 'horizontal', size=10) \n",
    "plt.ylabel('Sales')\n",
    "plt.xlabel('Summer Months')\n",
    "plt.show()"
   ]
  },
  {
   "cell_type": "code",
   "execution_count": 16,
   "id": "eda3a492",
   "metadata": {},
   "outputs": [
    {
     "data": {
      "image/png": "[encoded data removed]",
      "text/plain": [
       "<Figure size 640x480 with 1 Axes>"
      ]
     },
     "metadata": {},
     "output_type": "display_data"
    }
   ],
   "source": [
    "df5 = df.sample(5000)\n",
    "sales = df5['sales']\n",
    "months = df5['month']\n",
    "plt.bar(months,sales) #setting the size of x-axis its font size the column or value that should be on x-axis and how it should be printed\n",
    "plt.xticks(months, rotation = 'horizontal', size=10) \n",
    "plt.ylabel('Sales')\n",
    "plt.xlabel('Summer Months')\n",
    "plt.show()"
   ]
  },
  {
   "cell_type": "code",
   "execution_count": 17,
   "id": "b23b08ce",
   "metadata": {},
   "outputs": [
    {
     "data": {
      "image/png": "[encoded data removed]",
      "text/plain": [
       "<Figure size 640x480 with 1 Axes>"
      ]
     },
     "metadata": {},
     "output_type": "display_data"
    }
   ],
   "source": [
    "df5 = df.sample(10000)\n",
    "sales = df5['sales']\n",
    "months = df5['month']\n",
    "plt.bar(months,sales) #setting the size of x-axis its font size the column or value that should be on x-axis and how it should be printed\n",
    "plt.xticks(months, rotation = 'horizontal', size=10) \n",
    "plt.ylabel('Sales')\n",
    "plt.xlabel('Summer Months')\n",
    "plt.show()"
   ]
  },
  {
   "cell_type": "code",
   "execution_count": null,
   "id": "6aaf3334",
   "metadata": {},
   "outputs": [],
   "source": []
  }
 ],
 "metadata": {
  "kernelspec": {
   "display_name": "Python 3 (ipykernel)",
   "language": "python",
   "name": "python3"
  },
  "language_info": {
   "codemirror_mode": {
    "name": "ipython",
    "version": 3
   },
   "file_extension": ".py",
   "mimetype": "text/x-python",
   "name": "python",
   "nbconvert_exporter": "python",
   "pygments_lexer": "ipython3",
   "version": "3.11.3"
  }
 },
 "nbformat": 4,
 "nbformat_minor": 5
}
